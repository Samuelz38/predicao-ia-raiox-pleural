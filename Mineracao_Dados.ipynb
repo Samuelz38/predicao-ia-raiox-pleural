{
  "nbformat": 4,
  "nbformat_minor": 0,
  "metadata": {
    "colab": {
      "provenance": []
    },
    "kernelspec": {
      "name": "python3",
      "display_name": "Python 3"
    },
    "language_info": {
      "name": "python"
    }
  },
  "cells": [
    {
      "cell_type": "code",
      "execution_count": 6,
      "metadata": {
        "id": "izH6gM94I9OE"
      },
      "outputs": [],
      "source": [
        "import os\n",
        "import torch\n",
        "import torch.nn as nn\n",
        "import torch.nn.functional as F\n",
        "from torch.utils.data import Dataset, DataLoader\n",
        "from PIL import Image\n",
        "import torchvision.transforms as transforms"
      ]
    },
    {
      "cell_type": "code",
      "source": [
        "class PleuralEffusionDataset(Dataset):\n",
        "    def __init__(self, image_dir, label_dir, transform=None):\n",
        "        self.image_dir = image_dir\n",
        "        self.label_dir = label_dir\n",
        "        self.transform = transform\n",
        "        self.images = [f for f in os.listdir(image_dir) if f.endswith('.jpg')]\n",
        "\n",
        "    def __len__(self):\n",
        "        return len(self.images)\n",
        "\n",
        "    def __getitem__(self, idx):\n",
        "        img_name = self.images[idx]\n",
        "        img_path = os.path.join(self.image_dir, img_name)\n",
        "        label_path = os.path.join(self.label_dir, img_name.replace('.jpg', '.txt'))\n",
        "\n",
        "        image = Image.open(img_path).convert(\"RGB\")\n",
        "\n",
        "        # Lê a primeira classe do arquivo de label\n",
        "        with open(label_path, 'r') as f:\n",
        "            line = f.readline()\n",
        "            label = int(line.split()[0])  # classe 0 ou 1\n",
        "\n",
        "        if self.transform:\n",
        "            image = self.transform(image)\n",
        "\n",
        "        return image, label"
      ],
      "metadata": {
        "id": "4zigwNWgKOeE"
      },
      "execution_count": 9,
      "outputs": []
    },
    {
      "cell_type": "code",
      "source": [
        "base_path = 'drive/MyDrive/Arquivos/plueral effusion'\n",
        "\n",
        "transform = transforms.Compose([\n",
        "    transforms.Resize((224, 224)),\n",
        "    transforms.ToTensor(),\n",
        "])\n",
        "\n",
        "train_dataset = PleuralEffusionDataset(\n",
        "    os.path.join(base_path, 'train/images'),\n",
        "    os.path.join(base_path, 'train/labels'),\n",
        "    transform)\n",
        "\n",
        "valid_dataset = PleuralEffusionDataset(\n",
        "    os.path.join(base_path, 'valid/images'),\n",
        "    os.path.join(base_path, 'valid/labels'),\n",
        "    transform)\n",
        "\n",
        "test_dataset = PleuralEffusionDataset(\n",
        "    os.path.join(base_path, 'test/images'),\n",
        "    os.path.join(base_path, 'test/labels'),\n",
        "    transform)\n",
        "\n",
        "train_loader = DataLoader(train_dataset, batch_size=8, shuffle=True)\n",
        "valid_loader = DataLoader(valid_dataset, batch_size=8)\n",
        "test_loader  = DataLoader(test_dataset, batch_size=8)"
      ],
      "metadata": {
        "id": "QDcAR3guO0mB"
      },
      "execution_count": 14,
      "outputs": []
    },
    {
      "cell_type": "code",
      "source": [
        "class SimpleCNN(nn.Module):\n",
        "    def __init__(self):\n",
        "        super().__init__()\n",
        "        self.conv1 = nn.Conv2d(3, 16, 3, padding=1)\n",
        "        self.conv2 = nn.Conv2d(16, 32, 3, padding=1)\n",
        "        self.pool = nn.MaxPool2d(2, 2)\n",
        "        self.fc1 = nn.Linear(32 * 56 * 56, 128)\n",
        "        self.fc2 = nn.Linear(128, 2)\n",
        "\n",
        "    def forward(self, x):\n",
        "        x = self.pool(F.relu(self.conv1(x)))  # 16 x 112 x 112\n",
        "        x = self.pool(F.relu(self.conv2(x)))  # 32 x 56 x 56\n",
        "        x = x.view(-1, 32 * 56 * 56)\n",
        "        x = F.relu(self.fc1(x))\n",
        "        x = self.fc2(x)\n",
        "        return x"
      ],
      "metadata": {
        "id": "rZhkxA9mSWDx"
      },
      "execution_count": 15,
      "outputs": []
    },
    {
      "cell_type": "code",
      "source": [
        "device = torch.device('cuda' if torch.cuda.is_available() else 'cpu')\n",
        "model = SimpleCNN().to(device)\n",
        "criterion = nn.CrossEntropyLoss()\n",
        "optimizer = torch.optim.Adam(model.parameters(), lr=0.001)\n",
        "\n",
        "num_epochs = 10\n",
        "for epoch in range(num_epochs):\n",
        "    model.train()\n",
        "    running_loss = 0.0\n",
        "    for images, labels in train_loader:\n",
        "        images, labels = images.to(device), labels.to(device)\n",
        "\n",
        "        optimizer.zero_grad()\n",
        "        outputs = model(images)\n",
        "        loss = criterion(outputs, labels)\n",
        "        loss.backward()\n",
        "        optimizer.step()\n",
        "\n",
        "        running_loss += loss.item()\n",
        "\n",
        "    print(f\"Epoch [{epoch+1}/{num_epochs}], Loss: {running_loss:.4f}\")\n"
      ],
      "metadata": {
        "colab": {
          "base_uri": "https://localhost:8080/"
        },
        "id": "GHmwqf4fSgwB",
        "outputId": "7ff59b3a-65e5-4bc4-abe9-8cd229fd13c3"
      },
      "execution_count": 16,
      "outputs": [
        {
          "output_type": "stream",
          "name": "stdout",
          "text": [
            "Epoch [1/10], Loss: 20.3411\n",
            "Epoch [2/10], Loss: 12.3402\n",
            "Epoch [3/10], Loss: 12.1438\n",
            "Epoch [4/10], Loss: 11.3730\n",
            "Epoch [5/10], Loss: 10.2123\n",
            "Epoch [6/10], Loss: 8.9795\n",
            "Epoch [7/10], Loss: 7.1483\n",
            "Epoch [8/10], Loss: 6.6854\n",
            "Epoch [9/10], Loss: 4.8113\n",
            "Epoch [10/10], Loss: 3.3331\n"
          ]
        }
      ]
    },
    {
      "cell_type": "code",
      "source": [
        "def evaluate(loader, name=\"Set\"):\n",
        "    model.eval()\n",
        "    correct = total = 0\n",
        "    with torch.no_grad():\n",
        "        for images, labels in loader:\n",
        "            images, labels = images.to(device), labels.to(device)\n",
        "            outputs = model(images)\n",
        "            _, preds = torch.max(outputs, 1)\n",
        "            correct += (preds == labels).sum().item()\n",
        "            total += labels.size(0)\n",
        "    print(f\"{name} Accuracy: {correct / total:.2%}\")\n",
        "\n",
        "evaluate(valid_loader, \"Validation\")\n",
        "evaluate(test_loader, \"Test\")\n"
      ],
      "metadata": {
        "colab": {
          "base_uri": "https://localhost:8080/"
        },
        "id": "PMU6uDLNTm9J",
        "outputId": "2cff5b64-e65c-4656-e816-51db9589eae6"
      },
      "execution_count": 17,
      "outputs": [
        {
          "output_type": "stream",
          "name": "stdout",
          "text": [
            "Validation Accuracy: 62.50%\n",
            "Test Accuracy: 75.00%\n"
          ]
        }
      ]
    }
  ]
}